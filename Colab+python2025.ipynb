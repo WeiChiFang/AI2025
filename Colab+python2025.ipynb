{
  "nbformat": 4,
  "nbformat_minor": 0,
  "metadata": {
    "colab": {
      "provenance": [],
      "gpuType": "T4",
      "mount_file_id": "11jc7vmCS3vNU8B_gYZzvvv1hPe8iJPdJ",
      "authorship_tag": "ABX9TyOSUfLVQXYs7SEdd8L9RRZs",
      "include_colab_link": true
    },
    "kernelspec": {
      "name": "python3",
      "display_name": "Python 3"
    },
    "language_info": {
      "name": "python"
    },
    "accelerator": "GPU"
  },
  "cells": [
    {
      "cell_type": "markdown",
      "metadata": {
        "id": "view-in-github",
        "colab_type": "text"
      },
      "source": [
        "<a href=\"https://colab.research.google.com/github/WeiChiFang/AI2025/blob/main/Colab%2Bpython2025.ipynb\" target=\"_parent\"><img src=\"https://colab.research.google.com/assets/colab-badge.svg\" alt=\"Open In Colab\"/></a>"
      ]
    },
    {
      "cell_type": "markdown",
      "source": [],
      "metadata": {
        "id": "RMvpVxmc0NMY"
      }
    },
    {
      "cell_type": "code",
      "execution_count": 1,
      "metadata": {
        "colab": {
          "base_uri": "https://localhost:8080/"
        },
        "id": "sjOIG1YCyNYj",
        "outputId": "aba14958-366d-4280-dde8-8f4d877c731b"
      },
      "outputs": [
        {
          "output_type": "stream",
          "name": "stdout",
          "text": [
            "Python version : 3.11.12\n",
            "GPU 0: Tesla T4 (UUID: GPU-0b197e50-8e79-0fb9-0572-9ac902f34949)\n"
          ]
        }
      ],
      "source": [
        "\n",
        "import sys, subprocess, os, platform, json, time\n",
        "print(f\"Python version : {sys.version.split()[0]}\")\n",
        "!nvidia-smi -L || echo \"⚠️ No GPU — still OK for Week 1 labs\""
      ]
    }
  ]
}